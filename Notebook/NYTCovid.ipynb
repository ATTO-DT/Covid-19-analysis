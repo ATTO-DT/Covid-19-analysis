{
 "cells": [
  {
   "cell_type": "markdown",
   "metadata": {},
   "source": [
    "# NY Times Covid-19 data analysis class\n",
    "## Dr. Tirthajyoti Sarkar, Fremont, CA\n"
   ]
  },
  {
   "cell_type": "markdown",
   "metadata": {},
   "source": [
    "## Imports"
   ]
  },
  {
   "cell_type": "code",
   "execution_count": 3,
   "metadata": {},
   "outputs": [],
   "source": [
    "import numpy as np\n",
    "import pandas as pd\n",
    "import io\n",
    "import requests\n",
    "import matplotlib.pyplot as plt\n",
    "import seaborn as sns\n",
    "import time"
   ]
  },
  {
   "cell_type": "markdown",
   "metadata": {},
   "source": [
    "## `NTYCovid` class definition"
   ]
  },
  {
   "cell_type": "code",
   "execution_count": 4,
   "metadata": {},
   "outputs": [],
   "source": [
    "class NYTCovid:\n",
    "    def __init__(self):\n",
    "        from datetime import date\n",
    "        self.statedf = None\n",
    "        self.countydf = None\n",
    "        self._stateupdated = False\n",
    "        self._countyupdated = False\n",
    "        self._processed = False\n",
    "        self._today = date.today()\n",
    "    \n",
    "    def today(self):\n",
    "        print(\"Today is:\",self._today)\n",
    "    \n",
    "    def updateState(self,\n",
    "                     url=\"https://raw.githubusercontent.com/nytimes/covid-19-data/master/us-states.csv\"):\n",
    "        url = url\n",
    "        s=requests.get(url).content\n",
    "        self.statedf = pd.read_csv(io.StringIO(s.decode('utf-8')))\n",
    "        self.statedf['date'] =  pd.to_datetime(self.statedf['date'], format='%Y-%m-%d')\n",
    "        self._stateupdated = True\n",
    "    \n",
    "    def updateCounty(self,\n",
    "                     url=\"https://raw.githubusercontent.com/nytimes/covid-19-data/master/us-counties.csv\"):\n",
    "        url = url\n",
    "        s=requests.get(url).content\n",
    "        self.countydf = pd.read_csv(io.StringIO(s.decode('utf-8')))\n",
    "        self.countydf['date'] =  pd.to_datetime(self.countydf['date'], format='%Y-%m-%d')\n",
    "        self._countyupdated = True\n",
    "    \n",
    "    def dateUpdate(self):\n",
    "        if self._stateupdated:\n",
    "            print(\"Date of latest data:\",self.statedf.iloc[-1]['date'].date())\n",
    "        else:\n",
    "            print(\"Data has not been updated even once!\")\n",
    "    \n",
    "    def peek(self):\n",
    "        if self._stateupdated:\n",
    "            print(\"First 5 rows of the state data\")\n",
    "            print(\"=\"*50)\n",
    "            print(self.statedf.head())\n",
    "        if self._countyupdated:\n",
    "            print()\n",
    "            print(\"First 5 rows of the county data\")\n",
    "            print(\"=\"*50)\n",
    "            print(self.countydf.head())\n",
    "    \n",
    "    def process(self):\n",
    "        pd.set_option('mode.chained_assignment', None)\n",
    "        self.statedict= {}\n",
    "        self.countydict= {}\n",
    "        print(\"Processing...\")\n",
    "        t1 = time.time()\n",
    "        if self._stateupdated:\n",
    "            self.statelist = list(self.statedf['state'].unique())\n",
    "            for s in self.statelist:\n",
    "                state_df=self.statedf[self.statedf['state']==s]\n",
    "                state_df['newcases'] = state_df['cases'].diff()\n",
    "                state_df['newdeaths'] = state_df['deaths'].diff()\n",
    "                self.statedict[s]=state_df\n",
    "        if self._countyupdated:\n",
    "            self.countylist = list(self.countydf['county'].unique())\n",
    "            for c in self.countylist:\n",
    "                county_df=self.countydf[self.countydf['county']==c]\n",
    "                county_df['newcases'] = county_df['cases'].diff()\n",
    "                county_df['newdeaths'] = county_df['deaths'].diff()\n",
    "                self.countydict[c]=county_df\n",
    "        self._processed = True\n",
    "        t2 = time.time()\n",
    "        delt = round(t2-t1,3)\n",
    "        print(\"Finished. Took {} seconds\".format(delt))\n",
    "    def plot_state(self,\n",
    "                   state='New York',\n",
    "                   last_30_days=False):\n",
    "        \"\"\"\n",
    "        Plots statewise data\n",
    "        \"\"\"\n",
    "        if self._processed==False:\n",
    "            print(\"Data not processed yet. Cannot plot statewise.\")\n",
    "            return None\n",
    "        \n",
    "        s = str(state)\n",
    "        assert s in self.statelist,\"Input does not appear in the list of states. Possibly wrong name/spelling\"\n",
    "        df = self.statedict[s]\n",
    "        \n",
    "        dates = df['date']\n",
    "        cases = df['cases']\n",
    "        deaths = df['deaths']\n",
    "        newcases = df['newcases']\n",
    "        newdeaths = df['newdeaths']\n",
    "        \n",
    "        if last_30_days:\n",
    "            dates = df['date'][-31:-1]\n",
    "            cases = df['cases'][-31:-1]\n",
    "            deaths = df['deaths'][-31:-1]\n",
    "            newcases = df['newcases'][-31:-1]\n",
    "            newdeaths = df['newdeaths'][-31:-1]\n",
    "        \n",
    "        plt.figure(figsize=(14,4))\n",
    "        if last_30_days:\n",
    "            plt.title(\"Cumulative cases in {}, for last 30 days\".format(s),fontsize=18)\n",
    "        else:\n",
    "            plt.title(\"Cumulative cases in {}\".format(s),fontsize=18)\n",
    "        plt.bar(x=dates,height=cases,color='blue',edgecolor='k')\n",
    "        plt.xticks(rotation=90)\n",
    "        plt.show()\n",
    "        \n",
    "        print()\n",
    "        \n",
    "        plt.figure(figsize=(14,4))\n",
    "        if last_30_days:\n",
    "            plt.title(\"Cumulative deaths in {}, for last 30 days\".format(s),fontsize=18)\n",
    "        else:\n",
    "            plt.title(\"Cumulative deaths in {}\".format(s),fontsize=18)\n",
    "        plt.bar(x=dates,height=deaths,color='red',edgecolor='k')\n",
    "        plt.xticks(rotation=90)\n",
    "        plt.show()\n",
    "        \n",
    "        print()\n",
    "        \n",
    "        plt.figure(figsize=(14,4))\n",
    "        if last_30_days:\n",
    "            plt.title(\"New cases in {}, for last 30 days\".format(s),fontsize=18)\n",
    "        else:\n",
    "            plt.title(\"New cases in {}\".format(s),fontsize=18)\n",
    "        plt.bar(x=dates,height=newcases,color='yellow',edgecolor='k')\n",
    "        plt.xticks(rotation=90)\n",
    "        plt.show()\n",
    "        \n",
    "        print()\n",
    "        \n",
    "        plt.figure(figsize=(14,4))\n",
    "        if last_30_days:\n",
    "            plt.title(\"New deaths in {}, for last 30 days\".format(s),fontsize=18)\n",
    "        else:\n",
    "            plt.title(\"New deaths in {}\".format(s),fontsize=18)\n",
    "        plt.bar(x=dates,height=newdeaths,color='orange',edgecolor='k')\n",
    "        plt.xticks(rotation=90)\n",
    "        plt.show()"
   ]
  },
  {
   "cell_type": "markdown",
   "metadata": {},
   "source": [
    "## Demo"
   ]
  },
  {
   "cell_type": "markdown",
   "metadata": {},
   "source": [
    "### Initialize an object instance"
   ]
  },
  {
   "cell_type": "code",
   "execution_count": 5,
   "metadata": {},
   "outputs": [],
   "source": [
    "n = NYTCovid()"
   ]
  },
  {
   "cell_type": "markdown",
   "metadata": {},
   "source": [
    "### Today?"
   ]
  },
  {
   "cell_type": "code",
   "execution_count": 6,
   "metadata": {},
   "outputs": [
    {
     "name": "stdout",
     "output_type": "stream",
     "text": [
      "Today is: 2020-03-29\n"
     ]
    }
   ],
   "source": [
    "n.today()"
   ]
  },
  {
   "cell_type": "markdown",
   "metadata": {},
   "source": [
    "### Update state data (pulls directly from the NY Times Github repo)"
   ]
  },
  {
   "cell_type": "code",
   "execution_count": 7,
   "metadata": {},
   "outputs": [],
   "source": [
    "n.updateState()"
   ]
  },
  {
   "cell_type": "markdown",
   "metadata": {},
   "source": [
    "### Take a peek (only state data will show up)"
   ]
  },
  {
   "cell_type": "code",
   "execution_count": 8,
   "metadata": {},
   "outputs": [
    {
     "name": "stdout",
     "output_type": "stream",
     "text": [
      "First 5 rows of the state data\n",
      "==================================================\n",
      "        date       state  fips  cases  deaths\n",
      "0 2020-01-21  Washington    53      1       0\n",
      "1 2020-01-22  Washington    53      1       0\n",
      "2 2020-01-23  Washington    53      1       0\n",
      "3 2020-01-24    Illinois    17      1       0\n",
      "4 2020-01-24  Washington    53      1       0\n"
     ]
    }
   ],
   "source": [
    "n.peek()"
   ]
  },
  {
   "cell_type": "markdown",
   "metadata": {},
   "source": [
    "### Update county data (pulls directly from the NY Times Github repo)"
   ]
  },
  {
   "cell_type": "code",
   "execution_count": 9,
   "metadata": {},
   "outputs": [],
   "source": [
    "n.updateCounty()"
   ]
  },
  {
   "cell_type": "markdown",
   "metadata": {},
   "source": [
    "### Another peek (county data will show up this time)"
   ]
  },
  {
   "cell_type": "code",
   "execution_count": 10,
   "metadata": {},
   "outputs": [
    {
     "name": "stdout",
     "output_type": "stream",
     "text": [
      "First 5 rows of the state data\n",
      "==================================================\n",
      "        date       state  fips  cases  deaths\n",
      "0 2020-01-21  Washington    53      1       0\n",
      "1 2020-01-22  Washington    53      1       0\n",
      "2 2020-01-23  Washington    53      1       0\n",
      "3 2020-01-24    Illinois    17      1       0\n",
      "4 2020-01-24  Washington    53      1       0\n",
      "\n",
      "First 5 rows of the county data\n",
      "==================================================\n",
      "        date     county       state     fips  cases  deaths\n",
      "0 2020-01-21  Snohomish  Washington  53061.0      1       0\n",
      "1 2020-01-22  Snohomish  Washington  53061.0      1       0\n",
      "2 2020-01-23  Snohomish  Washington  53061.0      1       0\n",
      "3 2020-01-24       Cook    Illinois  17031.0      1       0\n",
      "4 2020-01-24  Snohomish  Washington  53061.0      1       0\n"
     ]
    }
   ],
   "source": [
    "n.peek()"
   ]
  },
  {
   "cell_type": "markdown",
   "metadata": {},
   "source": [
    "### Process the dataset\n",
    "\n",
    "NY Times dataset only records the cumulative cases and deaths by date. Also, the dataset is flat and there is no statewise or countywise breakup. This function processes the dataset, calculates new cases for each dat, and creates internal dictionaries to store statewise and countywise data for plotting and analysis."
   ]
  },
  {
   "cell_type": "code",
   "execution_count": 11,
   "metadata": {},
   "outputs": [
    {
     "name": "stdout",
     "output_type": "stream",
     "text": [
      "Processing...\n",
      "Finished. Took 2.665 seconds\n"
     ]
    }
   ],
   "source": [
    "n.process()"
   ]
  },
  {
   "cell_type": "markdown",
   "metadata": {},
   "source": [
    "### Checking a state dataset (first 10 rows)"
   ]
  },
  {
   "cell_type": "code",
   "execution_count": 13,
   "metadata": {},
   "outputs": [
    {
     "data": {
      "text/html": [
       "<div>\n",
       "<style scoped>\n",
       "    .dataframe tbody tr th:only-of-type {\n",
       "        vertical-align: middle;\n",
       "    }\n",
       "\n",
       "    .dataframe tbody tr th {\n",
       "        vertical-align: top;\n",
       "    }\n",
       "\n",
       "    .dataframe thead th {\n",
       "        text-align: right;\n",
       "    }\n",
       "</style>\n",
       "<table border=\"1\" class=\"dataframe\">\n",
       "  <thead>\n",
       "    <tr style=\"text-align: right;\">\n",
       "      <th></th>\n",
       "      <th>date</th>\n",
       "      <th>state</th>\n",
       "      <th>fips</th>\n",
       "      <th>cases</th>\n",
       "      <th>deaths</th>\n",
       "      <th>newcases</th>\n",
       "      <th>newdeaths</th>\n",
       "    </tr>\n",
       "  </thead>\n",
       "  <tbody>\n",
       "    <tr>\n",
       "      <th>5</th>\n",
       "      <td>2020-01-25</td>\n",
       "      <td>California</td>\n",
       "      <td>6</td>\n",
       "      <td>1</td>\n",
       "      <td>0</td>\n",
       "      <td>NaN</td>\n",
       "      <td>NaN</td>\n",
       "    </tr>\n",
       "    <tr>\n",
       "      <th>9</th>\n",
       "      <td>2020-01-26</td>\n",
       "      <td>California</td>\n",
       "      <td>6</td>\n",
       "      <td>2</td>\n",
       "      <td>0</td>\n",
       "      <td>1.0</td>\n",
       "      <td>0.0</td>\n",
       "    </tr>\n",
       "    <tr>\n",
       "      <th>13</th>\n",
       "      <td>2020-01-27</td>\n",
       "      <td>California</td>\n",
       "      <td>6</td>\n",
       "      <td>2</td>\n",
       "      <td>0</td>\n",
       "      <td>0.0</td>\n",
       "      <td>0.0</td>\n",
       "    </tr>\n",
       "    <tr>\n",
       "      <th>17</th>\n",
       "      <td>2020-01-28</td>\n",
       "      <td>California</td>\n",
       "      <td>6</td>\n",
       "      <td>2</td>\n",
       "      <td>0</td>\n",
       "      <td>0.0</td>\n",
       "      <td>0.0</td>\n",
       "    </tr>\n",
       "    <tr>\n",
       "      <th>21</th>\n",
       "      <td>2020-01-29</td>\n",
       "      <td>California</td>\n",
       "      <td>6</td>\n",
       "      <td>2</td>\n",
       "      <td>0</td>\n",
       "      <td>0.0</td>\n",
       "      <td>0.0</td>\n",
       "    </tr>\n",
       "    <tr>\n",
       "      <th>25</th>\n",
       "      <td>2020-01-30</td>\n",
       "      <td>California</td>\n",
       "      <td>6</td>\n",
       "      <td>2</td>\n",
       "      <td>0</td>\n",
       "      <td>0.0</td>\n",
       "      <td>0.0</td>\n",
       "    </tr>\n",
       "    <tr>\n",
       "      <th>29</th>\n",
       "      <td>2020-01-31</td>\n",
       "      <td>California</td>\n",
       "      <td>6</td>\n",
       "      <td>3</td>\n",
       "      <td>0</td>\n",
       "      <td>1.0</td>\n",
       "      <td>0.0</td>\n",
       "    </tr>\n",
       "    <tr>\n",
       "      <th>33</th>\n",
       "      <td>2020-02-01</td>\n",
       "      <td>California</td>\n",
       "      <td>6</td>\n",
       "      <td>3</td>\n",
       "      <td>0</td>\n",
       "      <td>0.0</td>\n",
       "      <td>0.0</td>\n",
       "    </tr>\n",
       "    <tr>\n",
       "      <th>38</th>\n",
       "      <td>2020-02-02</td>\n",
       "      <td>California</td>\n",
       "      <td>6</td>\n",
       "      <td>6</td>\n",
       "      <td>0</td>\n",
       "      <td>3.0</td>\n",
       "      <td>0.0</td>\n",
       "    </tr>\n",
       "    <tr>\n",
       "      <th>43</th>\n",
       "      <td>2020-02-03</td>\n",
       "      <td>California</td>\n",
       "      <td>6</td>\n",
       "      <td>6</td>\n",
       "      <td>0</td>\n",
       "      <td>0.0</td>\n",
       "      <td>0.0</td>\n",
       "    </tr>\n",
       "  </tbody>\n",
       "</table>\n",
       "</div>"
      ],
      "text/plain": [
       "         date       state  fips  cases  deaths  newcases  newdeaths\n",
       "5  2020-01-25  California     6      1       0       NaN        NaN\n",
       "9  2020-01-26  California     6      2       0       1.0        0.0\n",
       "13 2020-01-27  California     6      2       0       0.0        0.0\n",
       "17 2020-01-28  California     6      2       0       0.0        0.0\n",
       "21 2020-01-29  California     6      2       0       0.0        0.0\n",
       "25 2020-01-30  California     6      2       0       0.0        0.0\n",
       "29 2020-01-31  California     6      3       0       1.0        0.0\n",
       "33 2020-02-01  California     6      3       0       0.0        0.0\n",
       "38 2020-02-02  California     6      6       0       3.0        0.0\n",
       "43 2020-02-03  California     6      6       0       0.0        0.0"
      ]
     },
     "execution_count": 13,
     "metadata": {},
     "output_type": "execute_result"
    }
   ],
   "source": [
    "n.statedict['California'].head(10)"
   ]
  },
  {
   "cell_type": "markdown",
   "metadata": {},
   "source": [
    "### Checking a county dataset (first 10 rows)"
   ]
  },
  {
   "cell_type": "code",
   "execution_count": 14,
   "metadata": {},
   "outputs": [
    {
     "data": {
      "text/html": [
       "<div>\n",
       "<style scoped>\n",
       "    .dataframe tbody tr th:only-of-type {\n",
       "        vertical-align: middle;\n",
       "    }\n",
       "\n",
       "    .dataframe tbody tr th {\n",
       "        vertical-align: top;\n",
       "    }\n",
       "\n",
       "    .dataframe thead th {\n",
       "        text-align: right;\n",
       "    }\n",
       "</style>\n",
       "<table border=\"1\" class=\"dataframe\">\n",
       "  <thead>\n",
       "    <tr style=\"text-align: right;\">\n",
       "      <th></th>\n",
       "      <th>date</th>\n",
       "      <th>county</th>\n",
       "      <th>state</th>\n",
       "      <th>fips</th>\n",
       "      <th>cases</th>\n",
       "      <th>deaths</th>\n",
       "      <th>newcases</th>\n",
       "      <th>newdeaths</th>\n",
       "    </tr>\n",
       "  </thead>\n",
       "  <tbody>\n",
       "    <tr>\n",
       "      <th>36</th>\n",
       "      <td>2020-01-31</td>\n",
       "      <td>Santa Clara</td>\n",
       "      <td>California</td>\n",
       "      <td>6085.0</td>\n",
       "      <td>1</td>\n",
       "      <td>0</td>\n",
       "      <td>NaN</td>\n",
       "      <td>NaN</td>\n",
       "    </tr>\n",
       "    <tr>\n",
       "      <th>42</th>\n",
       "      <td>2020-02-01</td>\n",
       "      <td>Santa Clara</td>\n",
       "      <td>California</td>\n",
       "      <td>6085.0</td>\n",
       "      <td>1</td>\n",
       "      <td>0</td>\n",
       "      <td>0.0</td>\n",
       "      <td>0.0</td>\n",
       "    </tr>\n",
       "    <tr>\n",
       "      <th>50</th>\n",
       "      <td>2020-02-02</td>\n",
       "      <td>Santa Clara</td>\n",
       "      <td>California</td>\n",
       "      <td>6085.0</td>\n",
       "      <td>2</td>\n",
       "      <td>0</td>\n",
       "      <td>1.0</td>\n",
       "      <td>0.0</td>\n",
       "    </tr>\n",
       "    <tr>\n",
       "      <th>58</th>\n",
       "      <td>2020-02-03</td>\n",
       "      <td>Santa Clara</td>\n",
       "      <td>California</td>\n",
       "      <td>6085.0</td>\n",
       "      <td>2</td>\n",
       "      <td>0</td>\n",
       "      <td>0.0</td>\n",
       "      <td>0.0</td>\n",
       "    </tr>\n",
       "    <tr>\n",
       "      <th>66</th>\n",
       "      <td>2020-02-04</td>\n",
       "      <td>Santa Clara</td>\n",
       "      <td>California</td>\n",
       "      <td>6085.0</td>\n",
       "      <td>2</td>\n",
       "      <td>0</td>\n",
       "      <td>0.0</td>\n",
       "      <td>0.0</td>\n",
       "    </tr>\n",
       "    <tr>\n",
       "      <th>74</th>\n",
       "      <td>2020-02-05</td>\n",
       "      <td>Santa Clara</td>\n",
       "      <td>California</td>\n",
       "      <td>6085.0</td>\n",
       "      <td>2</td>\n",
       "      <td>0</td>\n",
       "      <td>0.0</td>\n",
       "      <td>0.0</td>\n",
       "    </tr>\n",
       "    <tr>\n",
       "      <th>83</th>\n",
       "      <td>2020-02-06</td>\n",
       "      <td>Santa Clara</td>\n",
       "      <td>California</td>\n",
       "      <td>6085.0</td>\n",
       "      <td>2</td>\n",
       "      <td>0</td>\n",
       "      <td>0.0</td>\n",
       "      <td>0.0</td>\n",
       "    </tr>\n",
       "    <tr>\n",
       "      <th>92</th>\n",
       "      <td>2020-02-07</td>\n",
       "      <td>Santa Clara</td>\n",
       "      <td>California</td>\n",
       "      <td>6085.0</td>\n",
       "      <td>2</td>\n",
       "      <td>0</td>\n",
       "      <td>0.0</td>\n",
       "      <td>0.0</td>\n",
       "    </tr>\n",
       "    <tr>\n",
       "      <th>101</th>\n",
       "      <td>2020-02-08</td>\n",
       "      <td>Santa Clara</td>\n",
       "      <td>California</td>\n",
       "      <td>6085.0</td>\n",
       "      <td>2</td>\n",
       "      <td>0</td>\n",
       "      <td>0.0</td>\n",
       "      <td>0.0</td>\n",
       "    </tr>\n",
       "    <tr>\n",
       "      <th>110</th>\n",
       "      <td>2020-02-09</td>\n",
       "      <td>Santa Clara</td>\n",
       "      <td>California</td>\n",
       "      <td>6085.0</td>\n",
       "      <td>2</td>\n",
       "      <td>0</td>\n",
       "      <td>0.0</td>\n",
       "      <td>0.0</td>\n",
       "    </tr>\n",
       "  </tbody>\n",
       "</table>\n",
       "</div>"
      ],
      "text/plain": [
       "          date       county       state    fips  cases  deaths  newcases  \\\n",
       "36  2020-01-31  Santa Clara  California  6085.0      1       0       NaN   \n",
       "42  2020-02-01  Santa Clara  California  6085.0      1       0       0.0   \n",
       "50  2020-02-02  Santa Clara  California  6085.0      2       0       1.0   \n",
       "58  2020-02-03  Santa Clara  California  6085.0      2       0       0.0   \n",
       "66  2020-02-04  Santa Clara  California  6085.0      2       0       0.0   \n",
       "74  2020-02-05  Santa Clara  California  6085.0      2       0       0.0   \n",
       "83  2020-02-06  Santa Clara  California  6085.0      2       0       0.0   \n",
       "92  2020-02-07  Santa Clara  California  6085.0      2       0       0.0   \n",
       "101 2020-02-08  Santa Clara  California  6085.0      2       0       0.0   \n",
       "110 2020-02-09  Santa Clara  California  6085.0      2       0       0.0   \n",
       "\n",
       "     newdeaths  \n",
       "36         NaN  \n",
       "42         0.0  \n",
       "50         0.0  \n",
       "58         0.0  \n",
       "66         0.0  \n",
       "74         0.0  \n",
       "83         0.0  \n",
       "92         0.0  \n",
       "101        0.0  \n",
       "110        0.0  "
      ]
     },
     "execution_count": 14,
     "metadata": {},
     "output_type": "execute_result"
    }
   ],
   "source": [
    "n.countydict['Santa Clara'].head(10)"
   ]
  },
  {
   "cell_type": "markdown",
   "metadata": {},
   "source": [
    "### What is the latest date of the update?"
   ]
  },
  {
   "cell_type": "code",
   "execution_count": 15,
   "metadata": {},
   "outputs": [
    {
     "name": "stdout",
     "output_type": "stream",
     "text": [
      "Date of latest data: 2020-03-28\n"
     ]
    }
   ],
   "source": [
    "n.dateUpdate()"
   ]
  },
  {
   "cell_type": "markdown",
   "metadata": {},
   "source": [
    "### Plotting data for a particular state\n",
    "This will plot four plots\n",
    "\n",
    "- Cumulative cases\n",
    "- Cumulative deaths\n",
    "- New cases\n",
    "- New deaths\n",
    "\n",
    "User can choose to plot all the data or just the data from the last 30 days by making `last_30_days=True` in the function call."
   ]
  },
  {
   "cell_type": "code",
   "execution_count": 16,
   "metadata": {},
   "outputs": [
    {
     "data": {
      "image/png": "[encoded data removed]",
      "text/plain": [
       "<Figure size 1008x288 with 1 Axes>"
      ]
     },
     "metadata": {
      "needs_background": "light"
     },
     "output_type": "display_data"
    },
    {
     "name": "stdout",
     "output_type": "stream",
     "text": [
      "\n"
     ]
    },
    {
     "data": {
      "image/png": "[encoded data removed]",
      "text/plain": [
       "<Figure size 1008x288 with 1 Axes>"
      ]
     },
     "metadata": {
      "needs_background": "light"
     },
     "output_type": "display_data"
    },
    {
     "name": "stdout",
     "output_type": "stream",
     "text": [
      "\n"
     ]
    },
    {
     "data": {
      "image/png": "[encoded data removed]",
      "text/plain": [
       "<Figure size 1008x288 with 1 Axes>"
      ]
     },
     "metadata": {
      "needs_background": "light"
     },
     "output_type": "display_data"
    },
    {
     "name": "stdout",
     "output_type": "stream",
     "text": [
      "\n"
     ]
    },
    {
     "data": {
      "image/png": "[encoded data removed]",
      "text/plain": [
       "<Figure size 1008x288 with 1 Axes>"
      ]
     },
     "metadata": {
      "needs_background": "light"
     },
     "output_type": "display_data"
    }
   ],
   "source": [
    "n.plot_state('Washington')"
   ]
  },
  {
   "cell_type": "markdown",
   "metadata": {},
   "source": [
    "### Plotting California data for the last 30 days"
   ]
  },
  {
   "cell_type": "code",
   "execution_count": 17,
   "metadata": {},
   "outputs": [
    {
     "data": {
      "image/png": "[encoded data removed]",
      "text/plain": [
       "<Figure size 1008x288 with 1 Axes>"
      ]
     },
     "metadata": {
      "needs_background": "light"
     },
     "output_type": "display_data"
    },
    {
     "name": "stdout",
     "output_type": "stream",
     "text": [
      "\n"
     ]
    },
    {
     "data": {
      "image/png": "[encoded data removed]",
      "text/plain": [
       "<Figure size 1008x288 with 1 Axes>"
      ]
     },
     "metadata": {
      "needs_background": "light"
     },
     "output_type": "display_data"
    },
    {
     "name": "stdout",
     "output_type": "stream",
     "text": [
      "\n"
     ]
    },
    {
     "data": {
      "image/png": "[encoded data removed]",
      "text/plain": [
       "<Figure size 1008x288 with 1 Axes>"
      ]
     },
     "metadata": {
      "needs_background": "light"
     },
     "output_type": "display_data"
    },
    {
     "name": "stdout",
     "output_type": "stream",
     "text": [
      "\n"
     ]
    },
    {
     "data": {
      "image/png": "[encoded data removed]",
      "text/plain": [
       "<Figure size 1008x288 with 1 Axes>"
      ]
     },
     "metadata": {
      "needs_background": "light"
     },
     "output_type": "display_data"
    }
   ],
   "source": [
    "n.plot_state('California',last_30_days=True)"
   ]
  }
 ],
 "metadata": {
  "kernelspec": {
   "display_name": "Python 3",
   "language": "python",
   "name": "python3"
  },
  "language_info": {
   "codemirror_mode": {
    "name": "ipython",
    "version": 3
   },
   "file_extension": ".py",
   "mimetype": "text/x-python",
   "name": "python",
   "nbconvert_exporter": "python",
   "pygments_lexer": "ipython3",
   "version": "3.7.0"
  }
 },
 "nbformat": 4,
 "nbformat_minor": 4
}
